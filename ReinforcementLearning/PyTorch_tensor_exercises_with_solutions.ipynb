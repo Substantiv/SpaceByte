{
 "cells": [
  {
   "cell_type": "code",
   "execution_count": null,
   "id": "f4d11bfb-0ea5-4813-ba27-6eaa88e89280",
   "metadata": {},
   "outputs": [],
   "source": [
    "https://blog.csdn.net/m0_59596990/article/details/120432304"
   ]
  },
  {
   "cell_type": "markdown",
   "id": "4e7fab07-fd97-4b9e-a063-b548ab9b8891",
   "metadata": {},
   "source": [
    "1.导入pytorch包"
   ]
  },
  {
   "cell_type": "code",
   "execution_count": 91,
   "id": "1f8d0acd-f935-4e5a-b521-21cc058c512a",
   "metadata": {},
   "outputs": [],
   "source": [
    "import torch\n",
    "import numpy as np\n",
    "import torch.nn as nn\n",
    "import torch.nn.functional as F\n",
    "import torchvision\n",
    "import torchvision.transforms as transforms"
   ]
  },
  {
   "cell_type": "markdown",
   "id": "47234d0d-6ddc-469a-99ed-f46d8edc17a0",
   "metadata": {},
   "source": [
    "2.创建一个空的5x3张量"
   ]
  },
  {
   "cell_type": "code",
   "execution_count": 2,
   "id": "7a249a29-9ac7-4c23-b7c8-e6d4dd29f964",
   "metadata": {},
   "outputs": [
    {
     "name": "stdout",
     "output_type": "stream",
     "text": [
      "tensor([[-3.6124e-35,  1.1897e-42,  0.0000e+00],\n",
      "        [ 0.0000e+00,  0.0000e+00,  0.0000e+00],\n",
      "        [ 0.0000e+00,  0.0000e+00,  0.0000e+00],\n",
      "        [ 0.0000e+00,  0.0000e+00,  0.0000e+00],\n",
      "        [ 0.0000e+00,  0.0000e+00,  0.0000e+00]])\n"
     ]
    }
   ],
   "source": [
    "x = torch.empty(5, 3)\n",
    "print(x)"
   ]
  },
  {
   "cell_type": "markdown",
   "id": "bfccfbc4-9ed1-4a8b-91da-f2f08a72abef",
   "metadata": {},
   "source": [
    "3.创建一个随机初始化的5x3张量"
   ]
  },
  {
   "cell_type": "code",
   "execution_count": 3,
   "id": "5adba493-1e79-4f3e-a520-a34b52b74f6f",
   "metadata": {},
   "outputs": [
    {
     "name": "stdout",
     "output_type": "stream",
     "text": [
      "tensor([[0.4426, 0.8836, 0.5223],\n",
      "        [0.6372, 0.0399, 0.4489],\n",
      "        [0.3346, 0.1610, 0.1535],\n",
      "        [0.7279, 0.8985, 0.9854],\n",
      "        [0.3235, 0.6663, 0.7635]])\n"
     ]
    }
   ],
   "source": [
    "x = torch.rand(5,3)\n",
    "print(x)"
   ]
  },
  {
   "cell_type": "markdown",
   "id": "d6fd8374-4d52-4a8b-b865-dc703af79549",
   "metadata": {},
   "source": [
    "4.创建一个5x3的0张量，类型为long"
   ]
  },
  {
   "cell_type": "code",
   "execution_count": 4,
   "id": "fcb3393e-3429-4eff-b0a1-d3dc3249c185",
   "metadata": {},
   "outputs": [
    {
     "name": "stdout",
     "output_type": "stream",
     "text": [
      "tensor([[0, 0, 0],\n",
      "        [0, 0, 0],\n",
      "        [0, 0, 0],\n",
      "        [0, 0, 0],\n",
      "        [0, 0, 0]])\n"
     ]
    }
   ],
   "source": [
    "x = torch.zeros(5, 3, dtype = torch.long)\n",
    "print(x)"
   ]
  },
  {
   "cell_type": "markdown",
   "id": "138812a2-82fb-448b-8760-e6babe0d0d2d",
   "metadata": {},
   "source": [
    "5.直接从数组创建张量"
   ]
  },
  {
   "cell_type": "code",
   "execution_count": 5,
   "id": "b0e0e27b-57c6-45b5-ac09-60b2b296ed9d",
   "metadata": {},
   "outputs": [
    {
     "name": "stdout",
     "output_type": "stream",
     "text": [
      "tensor([1, 2])\n"
     ]
    }
   ],
   "source": [
    "x = torch.tensor([1, 2])\n",
    "print(x)"
   ]
  },
  {
   "cell_type": "markdown",
   "id": "e33c24b2-9d64-4a23-bba3-c376218107c7",
   "metadata": {},
   "source": [
    "6. 创建一个5x3的单位张量，类型为double"
   ]
  },
  {
   "cell_type": "code",
   "execution_count": 6,
   "id": "b87ca438-80ff-45dd-a9c7-8baae1a6657b",
   "metadata": {},
   "outputs": [
    {
     "name": "stdout",
     "output_type": "stream",
     "text": [
      "tensor([[1., 1., 1.],\n",
      "        [1., 1., 1.],\n",
      "        [1., 1., 1.],\n",
      "        [1., 1., 1.],\n",
      "        [1., 1., 1.]], dtype=torch.float64)\n"
     ]
    }
   ],
   "source": [
    "x = torch.ones(5, 3, dtype = torch.double)\n",
    "print(x)"
   ]
  },
  {
   "cell_type": "markdown",
   "id": "410bfc2f-62d9-41a7-8c0f-e3e075f77513",
   "metadata": {},
   "source": [
    "7. 创建一个5x3的单位张量，类型为double"
   ]
  },
  {
   "cell_type": "code",
   "execution_count": 7,
   "id": "8924dad1-004d-4c7f-bbc4-f33eee96526f",
   "metadata": {},
   "outputs": [
    {
     "name": "stdout",
     "output_type": "stream",
     "text": [
      "tensor([[0.4931, 0.5719, 0.4300],\n",
      "        [0.8804, 0.4059, 0.7619],\n",
      "        [0.1202, 0.8046, 0.1166],\n",
      "        [0.8289, 0.3464, 0.6293],\n",
      "        [0.5277, 0.9389, 0.8930]], dtype=torch.float64)\n"
     ]
    }
   ],
   "source": [
    "x = torch.rand_like(x, dtype = torch.double)\n",
    "print(x)"
   ]
  },
  {
   "cell_type": "markdown",
   "id": "be2d1ecf-2d85-4abe-abff-739923a1d026",
   "metadata": {},
   "source": [
    "8.打印一个张量的维度"
   ]
  },
  {
   "cell_type": "code",
   "execution_count": 8,
   "id": "a3c9428e-abf4-4ab0-82d3-213d5988f583",
   "metadata": {},
   "outputs": [
    {
     "name": "stdout",
     "output_type": "stream",
     "text": [
      "torch.Size([5, 3])\n"
     ]
    }
   ],
   "source": [
    "print(x.size())"
   ]
  },
  {
   "cell_type": "markdown",
   "id": "95b58063-599f-4eeb-8e94-083b6dac7506",
   "metadata": {},
   "source": [
    "9.将两个张量相加"
   ]
  },
  {
   "cell_type": "code",
   "execution_count": 9,
   "id": "8aa8d2e0-88cf-4819-9518-87673e6270ed",
   "metadata": {},
   "outputs": [
    {
     "name": "stdout",
     "output_type": "stream",
     "text": [
      "tensor([[0.9425, 1.1557, 0.7281],\n",
      "        [1.1588, 0.5626, 1.1733],\n",
      "        [0.3606, 0.9579, 1.0691],\n",
      "        [1.3991, 0.9651, 0.9937],\n",
      "        [1.1118, 1.5954, 1.6380]], dtype=torch.float64)\n"
     ]
    }
   ],
   "source": [
    "y = torch.rand(5, 3)\n",
    "print(x + y)"
   ]
  },
  {
   "cell_type": "markdown",
   "id": "3a3a1a9c-988d-4c60-8c72-90f8cc002405",
   "metadata": {},
   "source": [
    "10.取张量的第一列"
   ]
  },
  {
   "cell_type": "code",
   "execution_count": 10,
   "id": "00085e0e-4d4a-40a1-a690-07d7c366bb02",
   "metadata": {},
   "outputs": [
    {
     "name": "stdout",
     "output_type": "stream",
     "text": [
      "tensor([0.5719, 0.4059, 0.8046, 0.3464, 0.9389], dtype=torch.float64)\n"
     ]
    }
   ],
   "source": [
    "print(x[:,1])"
   ]
  },
  {
   "cell_type": "markdown",
   "id": "f993a562-b3eb-401d-a6de-31ef1e9679be",
   "metadata": {},
   "source": [
    "12.将一个4x4的张量，resize成一个2x8的张量"
   ]
  },
  {
   "cell_type": "code",
   "execution_count": 11,
   "id": "2e49f5c8-a2fb-4876-8f78-75bac2ce9fb4",
   "metadata": {},
   "outputs": [
    {
     "name": "stdout",
     "output_type": "stream",
     "text": [
      "tensor([[0.4931, 0.5719, 0.4300, 0.8804, 0.4059],\n",
      "        [0.7619, 0.1202, 0.8046, 0.1166, 0.8289],\n",
      "        [0.3464, 0.6293, 0.5277, 0.9389, 0.8930]], dtype=torch.float64)\n",
      "tensor([[0.4931, 0.5719, 0.4300, 0.8804, 0.4059],\n",
      "        [0.7619, 0.1202, 0.8046, 0.1166, 0.8289],\n",
      "        [0.3464, 0.6293, 0.5277, 0.9389, 0.8930]], dtype=torch.float64)\n"
     ]
    }
   ],
   "source": [
    "y = x.view(3, 5)\n",
    "z = x.view(-1, 5)\n",
    "print(y)\n",
    "print(z)"
   ]
  },
  {
   "cell_type": "markdown",
   "id": "4cf07711-04df-4869-aa5e-96c00221b21f",
   "metadata": {},
   "source": [
    "13.从张量中取出数字"
   ]
  },
  {
   "cell_type": "code",
   "execution_count": 12,
   "id": "9018d541-9674-4a32-8522-d6ca8265e790",
   "metadata": {},
   "outputs": [
    {
     "name": "stdout",
     "output_type": "stream",
     "text": [
      "tensor([-0.6629])\n",
      "-0.6628690361976624\n"
     ]
    }
   ],
   "source": [
    "x = torch.randn(1)\n",
    "print(x)\n",
    "print(x.item())"
   ]
  },
  {
   "cell_type": "markdown",
   "id": "4bf4886a-a0d3-48f6-9fea-ac013a1c8453",
   "metadata": {},
   "source": [
    "14. 将张量转换成numpy数组"
   ]
  },
  {
   "cell_type": "code",
   "execution_count": 13,
   "id": "b0ba75e0-7da2-41f9-9d37-19e75e42171d",
   "metadata": {},
   "outputs": [
    {
     "name": "stdout",
     "output_type": "stream",
     "text": [
      "[[ 0.2579365  -0.13081847 -0.64093983  0.87661135  0.20114173  1.8941753 ]\n",
      " [-1.0695151   1.9908262  -0.03157694  0.9735389   1.3486438   0.02305768]\n",
      " [-0.80333996 -0.38682705  1.6114767  -0.6873963   0.50015837 -0.21808252]]\n"
     ]
    }
   ],
   "source": [
    "x = torch.randn(3, 6)\n",
    "x_numpy = x.numpy()\n",
    "print(x_numpy)"
   ]
  },
  {
   "cell_type": "markdown",
   "id": "6370a8da-2fe1-438f-b18e-373d2dfb4722",
   "metadata": {},
   "source": [
    "15. 将张量+1，并观察上题中numpy数组的变化"
   ]
  },
  {
   "cell_type": "code",
   "execution_count": 14,
   "id": "3beda688-55b6-42a9-bb16-e6240e0fc2ee",
   "metadata": {},
   "outputs": [
    {
     "name": "stdout",
     "output_type": "stream",
     "text": [
      "tensor([[ 1.2579,  0.8692,  0.3591,  1.8766,  1.2011,  2.8942],\n",
      "        [-0.0695,  2.9908,  0.9684,  1.9735,  2.3486,  1.0231],\n",
      "        [ 0.1967,  0.6132,  2.6115,  0.3126,  1.5002,  0.7819]])\n",
      "[[ 1.2579365   0.8691815   0.35906017  1.8766114   1.2011417   2.8941753 ]\n",
      " [-0.06951511  2.9908261   0.96842307  1.9735389   2.3486438   1.0230577 ]\n",
      " [ 0.19666004  0.61317295  2.6114767   0.3126037   1.5001583   0.78191745]]\n"
     ]
    }
   ],
   "source": [
    "x.add_(1)\n",
    "print(x)\n",
    "print(x_numpy)"
   ]
  },
  {
   "cell_type": "markdown",
   "id": "ae110a4b-fed8-4902-ac49-68ae8fe87108",
   "metadata": {},
   "source": [
    "16.从numpy数组创建张量"
   ]
  },
  {
   "cell_type": "code",
   "execution_count": 15,
   "id": "b4072b3e-358a-4eb1-b90e-6e8fcc3cdb31",
   "metadata": {},
   "outputs": [
    {
     "name": "stdout",
     "output_type": "stream",
     "text": [
      "tensor([1., 1., 1., 1., 1.], dtype=torch.float64)\n"
     ]
    }
   ],
   "source": [
    "x_np = np.ones(5)\n",
    "x_torch = torch.from_numpy(x_np)\n",
    "print(x_torch)"
   ]
  },
  {
   "cell_type": "markdown",
   "id": "e0e0ab53-cad2-458b-8724-326a21b35f02",
   "metadata": {},
   "source": [
    "17.将numpy数组+1并观察上题中张量的变化"
   ]
  },
  {
   "cell_type": "code",
   "execution_count": 16,
   "id": "97c8c446-0f60-4f4f-a45e-195ac9a90fcd",
   "metadata": {},
   "outputs": [
    {
     "name": "stdout",
     "output_type": "stream",
     "text": [
      "[2. 2. 2. 2. 2.]\n",
      "tensor([2., 2., 2., 2., 2.], dtype=torch.float64)\n"
     ]
    }
   ],
   "source": [
    "np.add(x_np, 1, out=x_np)\n",
    "print(x_np)\n",
    "print(x_torch)"
   ]
  },
  {
   "cell_type": "markdown",
   "id": "3977dda6-e52f-4dc8-9c5f-f29a1b9d1dfb",
   "metadata": {},
   "source": [
    "18.新建一个张量，并设置requires_grad=True"
   ]
  },
  {
   "cell_type": "code",
   "execution_count": 17,
   "id": "535bbec0-ec4f-4567-b980-99e812cc56c7",
   "metadata": {},
   "outputs": [
    {
     "name": "stdout",
     "output_type": "stream",
     "text": [
      "tensor([[1., 1., 1., 1., 1.],\n",
      "        [1., 1., 1., 1., 1.],\n",
      "        [1., 1., 1., 1., 1.],\n",
      "        [1., 1., 1., 1., 1.],\n",
      "        [1., 1., 1., 1., 1.]], requires_grad=True)\n"
     ]
    }
   ],
   "source": [
    "x = torch.ones(5, 5, requires_grad=True)\n",
    "print(x)"
   ]
  },
  {
   "cell_type": "markdown",
   "id": "c447e7f7-83da-4270-94fd-25b74d95f6d2",
   "metadata": {},
   "source": [
    "19.对张量进行任意操作（y = x + 2）"
   ]
  },
  {
   "cell_type": "code",
   "execution_count": 18,
   "id": "632aac73-406b-4580-a3d7-a652248b156c",
   "metadata": {},
   "outputs": [
    {
     "name": "stdout",
     "output_type": "stream",
     "text": [
      "tensor([[3., 3., 3., 3., 3.],\n",
      "        [3., 3., 3., 3., 3.],\n",
      "        [3., 3., 3., 3., 3.],\n",
      "        [3., 3., 3., 3., 3.],\n",
      "        [3., 3., 3., 3., 3.]], grad_fn=<AddBackward0>)\n",
      "<AddBackward0 object at 0x00000248A9C91AB0>\n"
     ]
    }
   ],
   "source": [
    "y = x+2\n",
    "print(y)\n",
    "print(y.grad_fn) # TODO: y就多了一个AddBackward"
   ]
  },
  {
   "cell_type": "markdown",
   "id": "59fc14f9-1205-4fcf-98cd-0de7aa3187e0",
   "metadata": {},
   "source": [
    "20.再对y进行任意操作   TODO"
   ]
  },
  {
   "cell_type": "code",
   "execution_count": 25,
   "id": "ee6d4579-360d-4d84-b668-7058a77863b3",
   "metadata": {},
   "outputs": [
    {
     "name": "stdout",
     "output_type": "stream",
     "text": [
      "tensor(48., grad_fn=<MulBackward0>)\n",
      "tensor(48., grad_fn=<MeanBackward0>)\n"
     ]
    }
   ],
   "source": [
    "z = y**2 * 3\n",
    "out = z.mean()\n",
    "\n",
    "print(z)   # z多了MulBackward\n",
    "print(out) # out多了MeanBackward"
   ]
  },
  {
   "cell_type": "markdown",
   "id": "46a7d165-959c-4f0b-a37e-1acbbd9c1e89",
   "metadata": {},
   "source": [
    "21.对out进行反向传播"
   ]
  },
  {
   "cell_type": "code",
   "execution_count": 26,
   "id": "e89ab93f-806c-4296-9363-d63d09380f4b",
   "metadata": {},
   "outputs": [
    {
     "ename": "RuntimeError",
     "evalue": "Trying to backward through the graph a second time (or directly access saved tensors after they have already been freed). Saved intermediate values of the graph are freed when you call .backward() or autograd.grad(). Specify retain_graph=True if you need to backward through the graph a second time or if you need to access saved tensors after calling backward.",
     "output_type": "error",
     "traceback": [
      "\u001b[1;31m---------------------------------------------------------------------------\u001b[0m",
      "\u001b[1;31mRuntimeError\u001b[0m                              Traceback (most recent call last)",
      "Cell \u001b[1;32mIn[26], line 1\u001b[0m\n\u001b[1;32m----> 1\u001b[0m \u001b[43mout\u001b[49m\u001b[38;5;241;43m.\u001b[39;49m\u001b[43mbackward\u001b[49m\u001b[43m(\u001b[49m\u001b[43m)\u001b[49m   \u001b[38;5;66;03m# TODO\u001b[39;00m\n",
      "File \u001b[1;32m~\\.conda\\envs\\totch\\lib\\site-packages\\torch\\_tensor.py:521\u001b[0m, in \u001b[0;36mTensor.backward\u001b[1;34m(self, gradient, retain_graph, create_graph, inputs)\u001b[0m\n\u001b[0;32m    511\u001b[0m \u001b[38;5;28;01mif\u001b[39;00m has_torch_function_unary(\u001b[38;5;28mself\u001b[39m):\n\u001b[0;32m    512\u001b[0m     \u001b[38;5;28;01mreturn\u001b[39;00m handle_torch_function(\n\u001b[0;32m    513\u001b[0m         Tensor\u001b[38;5;241m.\u001b[39mbackward,\n\u001b[0;32m    514\u001b[0m         (\u001b[38;5;28mself\u001b[39m,),\n\u001b[1;32m   (...)\u001b[0m\n\u001b[0;32m    519\u001b[0m         inputs\u001b[38;5;241m=\u001b[39minputs,\n\u001b[0;32m    520\u001b[0m     )\n\u001b[1;32m--> 521\u001b[0m \u001b[43mtorch\u001b[49m\u001b[38;5;241;43m.\u001b[39;49m\u001b[43mautograd\u001b[49m\u001b[38;5;241;43m.\u001b[39;49m\u001b[43mbackward\u001b[49m\u001b[43m(\u001b[49m\n\u001b[0;32m    522\u001b[0m \u001b[43m    \u001b[49m\u001b[38;5;28;43mself\u001b[39;49m\u001b[43m,\u001b[49m\u001b[43m \u001b[49m\u001b[43mgradient\u001b[49m\u001b[43m,\u001b[49m\u001b[43m \u001b[49m\u001b[43mretain_graph\u001b[49m\u001b[43m,\u001b[49m\u001b[43m \u001b[49m\u001b[43mcreate_graph\u001b[49m\u001b[43m,\u001b[49m\u001b[43m \u001b[49m\u001b[43minputs\u001b[49m\u001b[38;5;241;43m=\u001b[39;49m\u001b[43minputs\u001b[49m\n\u001b[0;32m    523\u001b[0m \u001b[43m\u001b[49m\u001b[43m)\u001b[49m\n",
      "File \u001b[1;32m~\\.conda\\envs\\totch\\lib\\site-packages\\torch\\autograd\\__init__.py:289\u001b[0m, in \u001b[0;36mbackward\u001b[1;34m(tensors, grad_tensors, retain_graph, create_graph, grad_variables, inputs)\u001b[0m\n\u001b[0;32m    284\u001b[0m     retain_graph \u001b[38;5;241m=\u001b[39m create_graph\n\u001b[0;32m    286\u001b[0m \u001b[38;5;66;03m# The reason we repeat the same comment below is that\u001b[39;00m\n\u001b[0;32m    287\u001b[0m \u001b[38;5;66;03m# some Python versions print out the first line of a multi-line function\u001b[39;00m\n\u001b[0;32m    288\u001b[0m \u001b[38;5;66;03m# calls in the traceback and some print out the last line\u001b[39;00m\n\u001b[1;32m--> 289\u001b[0m \u001b[43m_engine_run_backward\u001b[49m\u001b[43m(\u001b[49m\n\u001b[0;32m    290\u001b[0m \u001b[43m    \u001b[49m\u001b[43mtensors\u001b[49m\u001b[43m,\u001b[49m\n\u001b[0;32m    291\u001b[0m \u001b[43m    \u001b[49m\u001b[43mgrad_tensors_\u001b[49m\u001b[43m,\u001b[49m\n\u001b[0;32m    292\u001b[0m \u001b[43m    \u001b[49m\u001b[43mretain_graph\u001b[49m\u001b[43m,\u001b[49m\n\u001b[0;32m    293\u001b[0m \u001b[43m    \u001b[49m\u001b[43mcreate_graph\u001b[49m\u001b[43m,\u001b[49m\n\u001b[0;32m    294\u001b[0m \u001b[43m    \u001b[49m\u001b[43minputs\u001b[49m\u001b[43m,\u001b[49m\n\u001b[0;32m    295\u001b[0m \u001b[43m    \u001b[49m\u001b[43mallow_unreachable\u001b[49m\u001b[38;5;241;43m=\u001b[39;49m\u001b[38;5;28;43;01mTrue\u001b[39;49;00m\u001b[43m,\u001b[49m\n\u001b[0;32m    296\u001b[0m \u001b[43m    \u001b[49m\u001b[43maccumulate_grad\u001b[49m\u001b[38;5;241;43m=\u001b[39;49m\u001b[38;5;28;43;01mTrue\u001b[39;49;00m\u001b[43m,\u001b[49m\n\u001b[0;32m    297\u001b[0m \u001b[43m\u001b[49m\u001b[43m)\u001b[49m\n",
      "File \u001b[1;32m~\\.conda\\envs\\totch\\lib\\site-packages\\torch\\autograd\\graph.py:768\u001b[0m, in \u001b[0;36m_engine_run_backward\u001b[1;34m(t_outputs, *args, **kwargs)\u001b[0m\n\u001b[0;32m    766\u001b[0m     unregister_hooks \u001b[38;5;241m=\u001b[39m _register_logging_hooks_on_whole_graph(t_outputs)\n\u001b[0;32m    767\u001b[0m \u001b[38;5;28;01mtry\u001b[39;00m:\n\u001b[1;32m--> 768\u001b[0m     \u001b[38;5;28;01mreturn\u001b[39;00m Variable\u001b[38;5;241m.\u001b[39m_execution_engine\u001b[38;5;241m.\u001b[39mrun_backward(  \u001b[38;5;66;03m# Calls into the C++ engine to run the backward pass\u001b[39;00m\n\u001b[0;32m    769\u001b[0m         t_outputs, \u001b[38;5;241m*\u001b[39margs, \u001b[38;5;241m*\u001b[39m\u001b[38;5;241m*\u001b[39mkwargs\n\u001b[0;32m    770\u001b[0m     )  \u001b[38;5;66;03m# Calls into the C++ engine to run the backward pass\u001b[39;00m\n\u001b[0;32m    771\u001b[0m \u001b[38;5;28;01mfinally\u001b[39;00m:\n\u001b[0;32m    772\u001b[0m     \u001b[38;5;28;01mif\u001b[39;00m attach_logging_hooks:\n",
      "\u001b[1;31mRuntimeError\u001b[0m: Trying to backward through the graph a second time (or directly access saved tensors after they have already been freed). Saved intermediate values of the graph are freed when you call .backward() or autograd.grad(). Specify retain_graph=True if you need to backward through the graph a second time or if you need to access saved tensors after calling backward."
     ]
    }
   ],
   "source": [
    "out.backward()   # TODO"
   ]
  },
  {
   "cell_type": "markdown",
   "id": "76780e3c-2427-432b-bc30-6a9c6923ee51",
   "metadata": {},
   "source": [
    "22.打印梯度d(out)/dx   TODO"
   ]
  },
  {
   "cell_type": "code",
   "execution_count": 22,
   "id": "629bb791-8819-4336-9a8a-3fb9698b9d75",
   "metadata": {},
   "outputs": [
    {
     "name": "stdout",
     "output_type": "stream",
     "text": [
      "tensor([[0.2400, 0.2400, 0.2400, 0.2400, 0.2400],\n",
      "        [0.2400, 0.2400, 0.2400, 0.2400, 0.2400],\n",
      "        [0.2400, 0.2400, 0.2400, 0.2400, 0.2400],\n",
      "        [0.2400, 0.2400, 0.2400, 0.2400, 0.2400],\n",
      "        [0.2400, 0.2400, 0.2400, 0.2400, 0.2400]])\n"
     ]
    }
   ],
   "source": [
    "print(x.grad)     # 为什么"
   ]
  },
  {
   "cell_type": "markdown",
   "id": "85d438a5-f192-433b-8674-381f72fae12b",
   "metadata": {},
   "source": [
    "23.创建一个结果为矢量的计算过程（y=x*2^n）   TODO"
   ]
  },
  {
   "cell_type": "code",
   "execution_count": 29,
   "id": "332e4fbe-56d2-4a36-a027-72699b15125d",
   "metadata": {},
   "outputs": [
    {
     "name": "stdout",
     "output_type": "stream",
     "text": [
      "tensor([ 0.7527, -2.2164, -0.0155], requires_grad=True)\n"
     ]
    }
   ],
   "source": [
    "x = torch.randn(3, requires_grad=True)\n",
    "\n",
    "y = x+2\n",
    "while y.data.norm() < 1000:\n",
    "    y = y+2\n",
    "\n",
    "print(x)"
   ]
  },
  {
   "cell_type": "markdown",
   "id": "7d03b441-1872-45e6-86d1-c1a4e349827c",
   "metadata": {},
   "source": [
    "24.计算v = [0.1, 1.0, 0.0001]处的梯度   TODO"
   ]
  },
  {
   "cell_type": "code",
   "execution_count": 30,
   "id": "a085617e-6163-4b70-9d7c-c20c8025d9cd",
   "metadata": {},
   "outputs": [
    {
     "name": "stdout",
     "output_type": "stream",
     "text": [
      "tensor([1.0000e-01, 1.0000e+00, 1.0000e-04])\n"
     ]
    }
   ],
   "source": [
    "v = torch.tensor([0.1, 1.0, 0.0001], dtype=torch.float)\n",
    "y.backward(v)\n",
    "\n",
    "print(x.grad)"
   ]
  },
  {
   "cell_type": "markdown",
   "id": "b8e5bbfe-bafa-4637-a85a-c1081b79845b",
   "metadata": {},
   "source": [
    "25.关闭梯度的功能  TODO"
   ]
  },
  {
   "cell_type": "code",
   "execution_count": 31,
   "id": "b6d966cb-fe5b-41bb-9637-cfd9b173274a",
   "metadata": {},
   "outputs": [
    {
     "name": "stdout",
     "output_type": "stream",
     "text": [
      "True\n",
      "True\n",
      "False\n"
     ]
    }
   ],
   "source": [
    "print(x.requires_grad)\n",
    "print((x ** 2).requires_grad)\n",
    "\n",
    "with torch.no_grad():\n",
    "    print((x ** 2).requires_grad)\n",
    "    \n",
    "# 方法二\n",
    "# print(x.requires_grad)\n",
    "# y = x.detach()\n",
    "# print(y.requires_grad)\n",
    "# print(x.eq(y).all())"
   ]
  },
  {
   "cell_type": "markdown",
   "id": "614f9faa-dddb-4890-b3c4-109107b1a3c2",
   "metadata": {},
   "source": [
    "26. 定义神经网络"
   ]
  },
  {
   "cell_type": "code",
   "execution_count": 75,
   "id": "7de2091e-31ec-41a5-9a15-7d846a9ba890",
   "metadata": {},
   "outputs": [
    {
     "name": "stdout",
     "output_type": "stream",
     "text": [
      "Net(\n",
      "  (conv1): Conv2d(1, 6, kernel_size=(5, 5), stride=(1, 1))\n",
      "  (conv2): Conv2d(6, 16, kernel_size=(5, 5), stride=(1, 1))\n",
      "  (fc1): Linear(in_features=400, out_features=120, bias=True)\n",
      "  (fc2): Linear(in_features=120, out_features=84, bias=True)\n",
      "  (fc3): Linear(in_features=84, out_features=10, bias=True)\n",
      ")\n"
     ]
    }
   ],
   "source": [
    "class Net(nn.Module):\n",
    "    def __init__(self):\n",
    "        # 调用父类nn.Module的构造函数\n",
    "        super(Net, self).__init__()\n",
    "        # 26.定义①的卷积层，输入为32x32的图像，卷积核大小5x5卷积核种类6\n",
    "        self.conv1 = nn.Conv2d(1, 6, 5)\n",
    "        # 27.定义③的卷积层，输入为前一层6个特征，卷积核大小5x5，卷积核种类16\n",
    "        self.conv2 = nn.Conv2d(6, 16, 5)\n",
    "        # 28.定义⑤的全链接层，输入为16*5*5，输出为120\n",
    "        self.fc1 = nn.Linear(16 * 5 * 5, 120)  # 6*6 from image dimension\n",
    "        # 29.定义⑥的全连接层，输入为120，输出为84\n",
    "        self.fc2 = nn.Linear(120, 84)\n",
    "        # 30.定义⑥的全连接层，输入为84，输出为10\n",
    "        self.fc3 = nn.Linear(84, 10)\n",
    "\n",
    "    def forward(self, x):\n",
    "        # 31.完成input-S2，先卷积+relu，再2x2下采样\n",
    "        x = F.max_pool2d(F.relu(self.conv1(x)), (2, 2))\n",
    "        # 32.完成S2-S4，先卷积+relu，再2x2下采样\n",
    "        x = F.max_pool2d(F.relu(self.conv2(x)), (2, 2))\n",
    "         # 33.将特征向量扁平成行向量\n",
    "        x = x.view(-1, 16 * 5 * 5)\n",
    "        # 34.使用fc1+relu\n",
    "        x = F.relu(self.fc1(x))\n",
    "        # 35.使用fc2+relu\n",
    "        x = F.relu(self.fc2(x))\n",
    "        # 36.使用fc3\n",
    "        x = self.fc3(x)\n",
    "        return x\n",
    "\n",
    "net = Net()\n",
    "print(net)"
   ]
  },
  {
   "cell_type": "markdown",
   "id": "260d673c-6c78-4f43-9908-06e84a0922c9",
   "metadata": {},
   "source": [
    "37.打印网络的参数"
   ]
  },
  {
   "cell_type": "code",
   "execution_count": 76,
   "id": "e7e43861-1163-43d3-8a62-b0366aca9fd6",
   "metadata": {},
   "outputs": [
    {
     "name": "stdout",
     "output_type": "stream",
     "text": [
      "[Parameter containing:\n",
      "tensor([[[[-1.6422e-01,  6.3149e-02,  1.1797e-01, -8.0399e-02, -8.4575e-02],\n",
      "          [ 1.5103e-01, -7.0166e-02,  3.6270e-02,  1.3781e-01, -2.1759e-02],\n",
      "          [-1.6405e-01, -1.5486e-01, -1.1404e-01, -8.0064e-05,  2.9933e-02],\n",
      "          [ 1.1240e-01,  7.6862e-02, -5.6103e-02,  1.1116e-01, -8.8306e-02],\n",
      "          [ 1.5455e-01,  5.9823e-02, -1.1329e-01,  4.5416e-02, -1.4839e-01]]],\n",
      "\n",
      "\n",
      "        [[[-1.9766e-01, -1.6094e-01,  1.8923e-01, -1.9229e-01, -1.1621e-01],\n",
      "          [ 6.7694e-03,  1.3807e-01, -7.8841e-02, -1.8134e-01, -3.0527e-02],\n",
      "          [-5.8076e-02,  1.8335e-01, -1.7392e-01, -1.4105e-01, -4.8243e-02],\n",
      "          [ 4.9735e-02, -3.3478e-02,  1.1316e-01, -4.5259e-03,  1.5036e-01],\n",
      "          [ 3.8476e-03, -1.3635e-01,  1.6487e-01, -1.0305e-01, -1.1651e-01]]],\n",
      "\n",
      "\n",
      "        [[[-7.0865e-02, -1.5271e-01,  5.9818e-02,  1.0519e-01, -1.0768e-01],\n",
      "          [-4.8031e-02,  1.6717e-01, -1.3076e-01, -1.0117e-01,  1.4277e-01],\n",
      "          [ 1.1585e-01, -1.0715e-01,  5.2250e-02,  1.1776e-01, -8.4523e-02],\n",
      "          [ 7.9265e-03, -7.2795e-02, -1.2296e-01, -1.5743e-01,  1.8897e-01],\n",
      "          [-5.8819e-02,  1.6722e-01,  1.3741e-01,  3.6838e-02,  1.2558e-01]]],\n",
      "\n",
      "\n",
      "        [[[ 9.5048e-02, -1.7960e-01,  1.5122e-01, -1.1249e-01, -1.5005e-01],\n",
      "          [-8.5572e-02,  7.5027e-02,  1.7796e-03,  1.3237e-01,  6.0365e-03],\n",
      "          [ 6.2226e-02, -1.7568e-01,  1.2428e-01,  1.2082e-01, -1.8663e-01],\n",
      "          [-1.3411e-01,  1.5653e-01,  5.2194e-02,  6.2332e-02, -1.0246e-01],\n",
      "          [-1.7592e-01,  1.4421e-01,  2.5159e-02,  3.5875e-02, -1.0500e-01]]],\n",
      "\n",
      "\n",
      "        [[[ 1.6987e-01, -9.7518e-02, -1.5877e-01, -6.1112e-02,  7.7986e-02],\n",
      "          [ 8.8898e-03, -4.5509e-02,  1.0500e-01, -1.4634e-01, -1.5903e-01],\n",
      "          [-1.0653e-01,  1.1514e-01, -1.6845e-01,  1.9777e-01,  1.3485e-01],\n",
      "          [ 1.6185e-01,  1.3564e-01, -5.0133e-02, -1.2607e-02, -2.0061e-02],\n",
      "          [ 1.0687e-01, -1.4679e-01, -3.2009e-02, -3.5519e-03, -1.2930e-01]]],\n",
      "\n",
      "\n",
      "        [[[-1.2251e-01,  1.2608e-01,  9.0714e-02, -1.1746e-02,  1.9393e-01],\n",
      "          [ 1.9236e-01,  1.9410e-01,  5.4189e-02,  1.7464e-01, -2.0711e-02],\n",
      "          [-4.7935e-02, -3.4143e-02,  1.8642e-01,  1.9025e-01,  3.6371e-02],\n",
      "          [ 1.4944e-01,  1.1190e-01,  1.9851e-01, -1.4461e-01,  6.0010e-02],\n",
      "          [ 1.0887e-01,  1.7605e-01, -1.3269e-01, -1.9433e-01,  1.6935e-01]]]],\n",
      "       requires_grad=True), Parameter containing:\n",
      "tensor([-0.0689, -0.1926,  0.0922, -0.1310,  0.0903,  0.1645],\n",
      "       requires_grad=True), Parameter containing:\n",
      "tensor([[[[ 2.4323e-02, -6.1205e-03, -9.7788e-03, -5.4970e-02, -1.5162e-02],\n",
      "          [-3.8843e-02, -7.9992e-02,  5.6290e-02,  7.7577e-02,  2.1259e-02],\n",
      "          [-3.0543e-02,  3.0901e-02, -3.0893e-02, -2.8470e-02,  6.8654e-02],\n",
      "          [ 2.0675e-02, -1.3356e-02,  7.1549e-02,  5.3826e-02, -2.4197e-02],\n",
      "          [-7.9683e-02, -6.9801e-02,  3.3012e-02,  2.3642e-02,  5.2588e-02]],\n",
      "\n",
      "         [[-4.6302e-03,  3.7708e-02, -6.6708e-02, -2.0473e-02, -7.4385e-02],\n",
      "          [-5.5446e-02,  3.2787e-02,  1.3309e-02, -5.5656e-02,  4.0414e-02],\n",
      "          [ 7.1611e-02, -1.4823e-02, -7.1096e-02, -3.8309e-03,  7.6850e-02],\n",
      "          [ 7.6560e-02, -7.8646e-02,  6.5259e-02, -5.7040e-02,  4.1680e-02],\n",
      "          [-1.9645e-02,  5.3157e-02, -4.2295e-02,  4.7426e-02, -1.1806e-03]],\n",
      "\n",
      "         [[-1.3208e-02, -2.8266e-02, -2.6653e-02, -1.1166e-02, -7.3469e-02],\n",
      "          [ 1.7277e-02, -5.7905e-02, -4.3444e-02,  6.7866e-02,  5.2952e-02],\n",
      "          [ 9.0766e-03,  9.9886e-03,  4.3921e-02,  6.0187e-02, -2.0292e-02],\n",
      "          [ 7.2752e-02,  2.1955e-02, -1.3919e-02,  7.5861e-02, -7.7688e-02],\n",
      "          [ 6.2876e-02,  4.3774e-02, -4.2888e-02,  4.1166e-02, -2.3238e-02]],\n",
      "\n",
      "         [[-7.6404e-02,  5.3297e-02, -4.0770e-03,  1.8807e-02,  6.7187e-02],\n",
      "          [-6.3823e-02, -5.5491e-02, -4.0363e-02, -6.2614e-02,  5.6281e-02],\n",
      "          [ 3.7842e-02, -5.8311e-02,  7.0294e-02, -6.0777e-02, -5.9926e-02],\n",
      "          [ 4.8301e-02,  3.7440e-02, -3.4323e-02, -4.3107e-02, -4.8873e-02],\n",
      "          [ 3.6882e-02, -1.2035e-02, -4.1616e-02, -5.7610e-02, -7.6998e-02]],\n",
      "\n",
      "         [[ 2.7002e-02, -8.0059e-02,  8.0039e-03, -7.5354e-02, -2.1175e-02],\n",
      "          [ 3.1257e-02, -4.0407e-02, -8.1350e-03, -3.9131e-02, -2.6115e-02],\n",
      "          [-4.4340e-02,  1.1984e-02, -3.9683e-02,  5.0297e-02, -5.4606e-03],\n",
      "          [-1.9023e-02, -5.0235e-02,  1.3092e-02,  5.9430e-03,  4.9134e-02],\n",
      "          [ 7.3092e-02, -7.9097e-02,  7.4755e-02, -7.8489e-02,  7.3993e-02]],\n",
      "\n",
      "         [[-4.2766e-02,  4.4611e-02,  3.3401e-02,  4.7057e-02,  4.8758e-02],\n",
      "          [ 6.7208e-02,  2.8182e-02, -2.4993e-02,  8.0455e-02,  7.4670e-02],\n",
      "          [ 6.7300e-02,  6.7076e-02, -2.6994e-02,  5.3567e-03, -3.4191e-02],\n",
      "          [ 2.7951e-02, -8.0947e-02,  4.5374e-02, -3.7536e-02, -5.8017e-02],\n",
      "          [-8.1310e-02, -6.8565e-02, -6.2367e-02, -3.2946e-02,  3.8436e-02]]],\n",
      "\n",
      "\n",
      "        [[[ 3.8255e-02,  1.7371e-02, -4.0505e-02,  2.4372e-02, -7.4675e-02],\n",
      "          [ 6.6493e-02, -8.1456e-02,  4.7160e-02,  3.6043e-02, -9.7611e-03],\n",
      "          [ 6.8620e-02,  4.0920e-02, -7.5524e-02,  7.8110e-02,  7.6834e-02],\n",
      "          [ 7.3704e-02, -5.7214e-02,  7.8686e-02, -7.6973e-02, -2.5476e-03],\n",
      "          [ 5.2453e-03, -2.4366e-02, -7.2234e-02, -7.6718e-02, -2.6018e-02]],\n",
      "\n",
      "         [[-3.5214e-02, -5.1945e-02,  4.0156e-02,  2.7773e-02,  2.5065e-02],\n",
      "          [ 3.2865e-02,  3.5421e-02,  4.2643e-02, -6.5213e-02,  5.0458e-02],\n",
      "          [ 5.6210e-02,  7.3127e-02, -7.1380e-02,  7.3002e-02, -1.9539e-02],\n",
      "          [-3.1870e-03,  5.1494e-02, -1.7524e-02,  3.8615e-03, -4.1231e-02],\n",
      "          [ 2.5713e-02,  7.7587e-03,  3.5717e-02,  2.1059e-02,  7.5631e-02]],\n",
      "\n",
      "         [[-7.8140e-02,  6.9269e-02,  1.7269e-02,  4.3565e-02, -4.4229e-02],\n",
      "          [ 3.4457e-02, -2.4676e-02, -5.1888e-02,  5.8445e-02, -2.7614e-02],\n",
      "          [ 7.7707e-02, -5.5452e-02,  3.6057e-02, -4.4889e-02,  3.0689e-02],\n",
      "          [-8.0746e-02,  3.6831e-02, -4.8043e-02, -2.0076e-02,  2.9482e-02],\n",
      "          [-7.5675e-02, -1.6457e-02, -5.3069e-02,  6.6457e-02,  7.9648e-02]],\n",
      "\n",
      "         [[ 2.8158e-02,  5.3248e-02,  8.0208e-02, -4.4360e-02,  7.9987e-02],\n",
      "          [ 2.8715e-02,  7.5618e-02, -2.9097e-02, -4.7755e-02,  3.7127e-02],\n",
      "          [ 3.8136e-02, -2.8108e-02,  6.5431e-02, -5.2671e-02,  6.6758e-02],\n",
      "          [ 5.9769e-02, -2.1156e-02, -7.5082e-03, -1.8319e-02,  1.7138e-02],\n",
      "          [-9.0521e-03, -7.6933e-02, -6.6473e-02,  3.2190e-02, -3.6037e-02]],\n",
      "\n",
      "         [[-7.3011e-02,  4.1991e-02,  5.4651e-04, -6.0639e-02,  4.6734e-03],\n",
      "          [-1.5486e-02, -6.2680e-02,  6.4138e-02,  8.1414e-02,  4.8716e-02],\n",
      "          [-3.4845e-02, -1.5087e-02, -5.0973e-02, -2.7583e-02,  5.7981e-02],\n",
      "          [ 6.2784e-02, -1.5810e-03,  1.0449e-02,  3.4402e-03,  3.6677e-02],\n",
      "          [ 5.3976e-02,  2.6369e-02, -3.9187e-02,  9.8139e-03, -1.0307e-02]],\n",
      "\n",
      "         [[-1.8725e-02, -2.2354e-02, -7.8358e-02, -2.9562e-02, -2.4553e-02],\n",
      "          [-4.4619e-02,  3.8435e-02, -6.5148e-02,  1.9363e-02,  2.9045e-02],\n",
      "          [-8.0043e-02, -6.0500e-02, -2.8518e-02,  2.2538e-02,  4.0144e-02],\n",
      "          [-4.0913e-02,  2.6342e-03, -7.5699e-02,  5.0921e-02, -3.1694e-02],\n",
      "          [-5.6389e-02, -2.9793e-02,  8.1100e-02,  6.0188e-02,  4.6187e-02]]],\n",
      "\n",
      "\n",
      "        [[[-3.3830e-03, -6.0445e-02,  4.5534e-02,  4.0982e-02, -7.3143e-02],\n",
      "          [ 8.0606e-03,  1.3385e-02,  4.4605e-02, -1.9973e-02,  7.2634e-02],\n",
      "          [ 8.0515e-02,  4.0038e-02, -4.5666e-02, -2.3712e-03,  5.1822e-03],\n",
      "          [-2.3930e-02,  4.2264e-02,  3.3535e-02,  4.2190e-02,  8.6460e-03],\n",
      "          [-2.8621e-02,  4.1751e-02,  6.3780e-02, -6.8537e-02, -7.0322e-02]],\n",
      "\n",
      "         [[ 4.8501e-02, -4.0922e-02,  8.2782e-03, -2.6994e-02, -5.6433e-02],\n",
      "          [ 6.3920e-02,  6.7230e-02, -6.4906e-03,  5.0420e-03, -3.6160e-02],\n",
      "          [-6.9354e-02,  4.7351e-02, -1.2384e-02, -2.2408e-02, -2.9376e-02],\n",
      "          [-3.0994e-02, -5.9939e-02,  6.7136e-02, -5.4741e-03, -2.0769e-03],\n",
      "          [-1.3010e-02, -7.1733e-02, -6.8328e-02,  2.5086e-02, -1.5424e-02]],\n",
      "\n",
      "         [[ 7.7093e-02,  1.8996e-02,  5.4807e-02,  4.3939e-02, -5.5978e-03],\n",
      "          [ 1.2556e-02,  1.9776e-02,  1.2943e-02, -1.4711e-03, -7.9866e-02],\n",
      "          [-5.2329e-02, -4.6253e-02,  5.6930e-02, -7.7080e-02, -5.1770e-02],\n",
      "          [-5.4750e-02,  6.0989e-03, -2.3124e-02,  3.9122e-02,  7.8526e-02],\n",
      "          [-6.1198e-02,  5.8947e-02, -5.5830e-02, -1.1886e-02, -4.9430e-02]],\n",
      "\n",
      "         [[-3.2811e-02, -3.5129e-02, -3.1895e-02, -7.2862e-02,  6.9918e-02],\n",
      "          [-7.2650e-02, -3.1201e-02, -6.1883e-02,  2.7381e-02,  4.7637e-02],\n",
      "          [-2.6748e-02, -6.8925e-02,  7.5217e-02,  2.9697e-02, -1.3540e-03],\n",
      "          [-9.7403e-03, -4.2034e-03,  4.4362e-02, -5.2005e-02,  1.7728e-02],\n",
      "          [ 4.3956e-02, -5.8020e-02, -2.6252e-02,  4.6904e-02, -4.7369e-02]],\n",
      "\n",
      "         [[-1.9667e-02, -1.2166e-02,  1.0785e-02,  3.2721e-02, -7.9342e-02],\n",
      "          [-2.9546e-02, -2.7039e-03, -6.6066e-02, -4.6463e-02, -7.6991e-02],\n",
      "          [ 2.5220e-02,  1.8623e-02, -1.9332e-02, -7.0981e-02,  5.3157e-02],\n",
      "          [ 6.2466e-02, -7.1489e-02, -4.0380e-02, -4.2208e-02,  3.0134e-02],\n",
      "          [ 8.9115e-03, -6.8572e-02, -2.6332e-02,  3.8378e-02,  2.0280e-04]],\n",
      "\n",
      "         [[-7.4391e-02, -4.6080e-02, -7.5880e-03, -9.3226e-03, -7.6274e-02],\n",
      "          [-2.7588e-02,  2.8346e-02,  2.7325e-02,  9.7503e-03,  9.6111e-03],\n",
      "          [ 6.6545e-02, -5.7194e-02,  3.6591e-02, -7.6844e-02, -4.6797e-02],\n",
      "          [-3.6745e-02, -3.6758e-02,  6.6192e-02, -1.3994e-02,  7.2097e-02],\n",
      "          [-7.8964e-03,  7.1923e-02, -3.1650e-02, -3.6795e-02, -7.3759e-02]]],\n",
      "\n",
      "\n",
      "        ...,\n",
      "\n",
      "\n",
      "        [[[-3.7173e-02, -8.1513e-02,  1.3620e-02, -2.8292e-02, -1.4579e-02],\n",
      "          [-6.6552e-02,  4.3883e-02,  7.8699e-02,  2.0148e-02, -4.9283e-02],\n",
      "          [ 4.3844e-02, -5.7385e-04,  6.4252e-02,  1.6865e-02, -2.9532e-02],\n",
      "          [ 3.1331e-02,  2.7384e-02, -3.3231e-02,  1.7958e-02, -1.3851e-02],\n",
      "          [ 1.1908e-02,  6.6253e-02, -1.5416e-02, -7.0301e-02, -3.1695e-03]],\n",
      "\n",
      "         [[-3.5030e-04,  2.0345e-02, -7.3229e-02,  6.3825e-02, -3.4620e-02],\n",
      "          [-4.4768e-02, -3.1544e-02,  3.0818e-02,  1.2273e-03,  5.8833e-03],\n",
      "          [-8.0794e-02, -3.4128e-02,  3.4226e-02, -2.0419e-02,  1.0675e-02],\n",
      "          [-1.1588e-02,  2.9664e-02,  4.1879e-02, -3.3602e-03,  7.4731e-02],\n",
      "          [ 1.2597e-02,  6.8967e-02,  6.5666e-02, -7.5182e-02,  2.3211e-02]],\n",
      "\n",
      "         [[-4.6193e-02, -4.8057e-02, -4.7620e-02,  4.6599e-02, -8.0616e-02],\n",
      "          [-7.0504e-02, -5.0084e-02,  1.9836e-02,  2.9782e-02,  7.9265e-02],\n",
      "          [ 7.6918e-02,  3.0967e-02,  4.3256e-03,  9.5850e-03, -3.8911e-02],\n",
      "          [ 6.1191e-02, -4.0355e-02,  3.1429e-02, -1.6670e-02, -4.8124e-02],\n",
      "          [ 4.8269e-02,  5.4827e-02, -3.7771e-02,  4.0789e-03,  1.8734e-02]],\n",
      "\n",
      "         [[-2.9114e-03,  3.6545e-02, -1.6570e-02,  4.9688e-02,  1.0585e-03],\n",
      "          [ 4.6538e-02,  7.6342e-02,  4.3335e-03,  1.0454e-02,  1.9121e-02],\n",
      "          [ 7.7437e-02,  5.4022e-02,  2.0770e-02,  6.5087e-02, -3.7703e-02],\n",
      "          [ 3.3006e-02, -5.9839e-02, -7.7852e-02,  4.1923e-02, -2.3567e-02],\n",
      "          [-5.9395e-03,  1.2735e-02,  1.8591e-02,  5.7005e-02,  1.7044e-02]],\n",
      "\n",
      "         [[-4.9885e-02,  5.3311e-02, -2.0178e-02,  3.0620e-02,  6.1585e-02],\n",
      "          [-5.5489e-02,  2.3486e-02, -2.8681e-02,  4.8116e-02,  6.4730e-02],\n",
      "          [ 7.3828e-02, -6.7014e-02,  4.5435e-02, -6.4015e-02,  2.8039e-03],\n",
      "          [-7.5826e-02, -7.0176e-03, -5.7556e-02, -1.2711e-02,  4.2684e-02],\n",
      "          [ 7.8662e-02,  3.6648e-02,  4.8330e-02, -5.6469e-02,  7.8494e-02]],\n",
      "\n",
      "         [[-5.4665e-02,  1.4022e-02, -3.2152e-02, -1.3827e-02,  2.0068e-02],\n",
      "          [-5.2689e-02, -1.8425e-02, -9.2328e-05,  5.7612e-03,  3.3701e-02],\n",
      "          [ 3.4843e-04,  4.6944e-02,  1.6985e-02, -1.5791e-02, -3.0247e-02],\n",
      "          [-1.4573e-02, -6.6635e-02, -2.5802e-02,  4.9111e-02,  4.7813e-02],\n",
      "          [ 4.7124e-02,  7.2017e-02,  3.3424e-02,  2.4938e-02, -4.8050e-02]]],\n",
      "\n",
      "\n",
      "        [[[ 5.0454e-02, -1.3490e-02, -7.9657e-02, -6.8395e-02, -5.7677e-03],\n",
      "          [-2.7439e-02,  7.8590e-02, -7.5410e-02,  7.9953e-03,  5.3121e-03],\n",
      "          [-6.2174e-02, -2.3579e-03, -4.5962e-02, -7.8458e-02,  7.2946e-02],\n",
      "          [-7.6732e-02, -1.9490e-02, -5.5349e-02, -2.9398e-02,  2.6740e-02],\n",
      "          [-3.3994e-02, -1.9901e-02,  7.3433e-02, -4.9765e-03, -1.6777e-02]],\n",
      "\n",
      "         [[-3.0611e-02,  3.9339e-02,  1.6021e-02,  6.7195e-02, -4.6087e-03],\n",
      "          [-3.7383e-02,  5.7153e-02,  2.8101e-02, -1.5441e-02, -7.2911e-02],\n",
      "          [-2.4654e-02,  3.0880e-03, -4.1270e-04, -7.0579e-02, -5.4682e-02],\n",
      "          [-5.1842e-02, -7.0097e-02, -1.2373e-02, -2.1686e-02, -6.4338e-02],\n",
      "          [ 7.6393e-02, -7.2224e-02, -7.3788e-03,  7.6073e-02, -2.3992e-02]],\n",
      "\n",
      "         [[-6.9897e-03, -4.0573e-02,  5.0840e-02, -5.5576e-02,  5.5801e-02],\n",
      "          [-6.5447e-02,  4.2382e-02, -1.6333e-02,  6.2432e-02, -1.2676e-02],\n",
      "          [-1.2755e-02, -6.4360e-02, -6.5301e-02,  7.0249e-02, -2.8095e-02],\n",
      "          [-1.2303e-03, -3.5819e-02,  6.9976e-02, -1.2335e-02,  4.9015e-02],\n",
      "          [ 6.9508e-02, -5.9457e-02, -4.6333e-02, -5.4896e-02,  7.3759e-02]],\n",
      "\n",
      "         [[ 2.6556e-02,  1.1363e-02,  2.2945e-02, -1.2842e-02, -2.1520e-02],\n",
      "          [ 5.3712e-02,  7.9594e-02,  1.4264e-02,  4.2034e-02, -9.8811e-03],\n",
      "          [-5.1172e-02,  3.4928e-02, -1.7328e-02,  6.7513e-02, -7.3308e-02],\n",
      "          [ 2.6727e-02, -6.8656e-02,  6.1466e-02, -3.9373e-02,  1.7427e-02],\n",
      "          [ 7.0208e-02,  7.2632e-02, -6.4355e-02,  2.8164e-02, -1.9318e-02]],\n",
      "\n",
      "         [[-2.6691e-02,  6.3338e-02,  1.5671e-02, -2.1234e-02,  3.2614e-02],\n",
      "          [ 1.5733e-02, -1.0917e-02, -4.0740e-02, -7.9666e-02, -4.7072e-02],\n",
      "          [-2.4766e-02,  4.8405e-02,  6.3468e-02, -1.3928e-02,  3.0841e-02],\n",
      "          [-2.3761e-02,  2.4722e-02,  2.0009e-02,  3.4017e-02,  4.6394e-02],\n",
      "          [ 1.5818e-02, -3.5338e-02, -5.0196e-02, -3.2696e-02, -7.0315e-02]],\n",
      "\n",
      "         [[ 3.3907e-02,  4.6303e-02, -6.6495e-02, -2.8062e-02, -7.9950e-02],\n",
      "          [ 7.7826e-02,  2.1692e-02,  3.6853e-02, -4.6874e-02,  5.4680e-02],\n",
      "          [ 2.3951e-02, -5.3834e-02,  6.6369e-02,  1.4802e-02, -4.4405e-02],\n",
      "          [ 7.2217e-02, -6.9090e-02, -4.8458e-02,  6.3617e-02,  2.8366e-02],\n",
      "          [ 2.2749e-04,  3.3626e-02,  3.4169e-02, -6.0584e-02, -3.2768e-02]]],\n",
      "\n",
      "\n",
      "        [[[-7.8741e-02, -3.2123e-02,  3.4274e-02,  1.1460e-02, -1.5742e-02],\n",
      "          [-5.0474e-02, -4.7820e-02,  7.5422e-02,  3.4081e-02, -1.8650e-02],\n",
      "          [ 2.6828e-02, -6.7759e-02,  9.4059e-03,  4.5648e-02,  1.0176e-02],\n",
      "          [-3.9355e-02, -3.7202e-03, -7.9921e-02,  7.8296e-02,  2.9077e-02],\n",
      "          [-5.2613e-02,  5.7942e-02,  6.5294e-02,  1.1008e-02, -6.3418e-02]],\n",
      "\n",
      "         [[ 4.7144e-02, -3.3261e-02, -6.9892e-02,  2.7188e-02, -3.0784e-02],\n",
      "          [-2.8403e-02, -2.0534e-02, -4.1958e-02,  3.6244e-02, -4.9127e-02],\n",
      "          [-2.4905e-02, -2.8370e-03,  2.1440e-02, -5.4340e-02, -3.3452e-02],\n",
      "          [-1.5283e-02,  7.2465e-02,  4.9177e-02, -2.1825e-02,  5.0786e-02],\n",
      "          [ 7.6695e-02,  8.9990e-03, -5.8576e-02, -1.0809e-02, -5.9619e-02]],\n",
      "\n",
      "         [[ 5.1223e-02,  5.8400e-02, -5.6737e-02,  2.8309e-02,  1.7981e-03],\n",
      "          [-6.6333e-03, -3.3534e-02, -4.7677e-02,  4.0445e-02, -6.7172e-02],\n",
      "          [ 1.0998e-02, -5.1999e-02, -7.8611e-02, -6.3070e-02, -4.3291e-02],\n",
      "          [-8.1324e-02, -4.9002e-03,  2.9037e-02,  9.1020e-03, -2.4228e-02],\n",
      "          [ 5.2159e-02,  7.0861e-02,  6.7050e-02,  1.5673e-02,  4.0847e-02]],\n",
      "\n",
      "         [[ 1.8782e-02, -2.6291e-02,  4.8311e-02,  2.8530e-02, -2.4703e-02],\n",
      "          [-7.7314e-02, -5.0924e-02, -2.3377e-02,  5.1933e-02, -7.1416e-02],\n",
      "          [-4.1302e-02, -4.6425e-02, -7.4592e-03, -2.7783e-02, -4.9755e-02],\n",
      "          [ 6.5237e-02, -7.1364e-02,  5.0572e-02,  2.7061e-02,  3.1727e-02],\n",
      "          [-3.8361e-02, -2.1642e-02, -2.7792e-02, -8.1298e-03,  7.9872e-02]],\n",
      "\n",
      "         [[-6.2869e-02, -3.8580e-02, -4.1817e-02, -2.9600e-02, -7.4941e-02],\n",
      "          [ 7.7805e-03,  6.9312e-02,  2.7403e-03,  2.3971e-02,  6.0731e-02],\n",
      "          [ 7.2892e-02, -7.9729e-02,  5.8578e-02,  7.4079e-02, -7.0180e-02],\n",
      "          [ 1.3187e-02, -7.4535e-02, -2.4799e-02,  1.9448e-02,  4.5878e-02],\n",
      "          [ 1.8951e-02,  1.1182e-02,  1.4439e-02, -4.7828e-02,  5.0050e-02]],\n",
      "\n",
      "         [[ 1.6953e-02,  6.6221e-02, -7.0906e-02,  4.7242e-03, -7.7889e-02],\n",
      "          [ 3.3909e-02,  6.3116e-02,  4.4650e-02,  4.0083e-02, -1.1156e-02],\n",
      "          [ 2.6076e-02, -4.8963e-02,  1.6091e-02, -3.2668e-03,  8.1059e-03],\n",
      "          [-1.8115e-02, -1.6579e-02, -2.3585e-02, -4.9088e-02,  4.9448e-02],\n",
      "          [-7.1514e-03, -6.0443e-02,  4.4543e-02,  7.2124e-02,  6.3069e-02]]]],\n",
      "       requires_grad=True), Parameter containing:\n",
      "tensor([-0.0103,  0.0583,  0.0710,  0.0689, -0.0556, -0.0217, -0.0656, -0.0652,\n",
      "        -0.0126, -0.0608, -0.0050, -0.0148, -0.0758, -0.0723, -0.0619, -0.0126],\n",
      "       requires_grad=True), Parameter containing:\n",
      "tensor([[ 0.0237,  0.0036,  0.0065,  ..., -0.0290,  0.0016, -0.0180],\n",
      "        [ 0.0374,  0.0139, -0.0153,  ..., -0.0229,  0.0282,  0.0217],\n",
      "        [ 0.0450, -0.0286, -0.0480,  ...,  0.0145, -0.0018,  0.0208],\n",
      "        ...,\n",
      "        [-0.0197, -0.0052, -0.0259,  ...,  0.0154, -0.0238,  0.0490],\n",
      "        [ 0.0135,  0.0027,  0.0052,  ...,  0.0411,  0.0110, -0.0052],\n",
      "        [ 0.0026,  0.0287, -0.0015,  ...,  0.0139, -0.0246,  0.0293]],\n",
      "       requires_grad=True), Parameter containing:\n",
      "tensor([-0.0450,  0.0286, -0.0066, -0.0411,  0.0257,  0.0376, -0.0162, -0.0070,\n",
      "         0.0343,  0.0438,  0.0019, -0.0052,  0.0227,  0.0271,  0.0328,  0.0192,\n",
      "         0.0254, -0.0481,  0.0144,  0.0256, -0.0193, -0.0015,  0.0339,  0.0125,\n",
      "         0.0154,  0.0496,  0.0188,  0.0208, -0.0200,  0.0092,  0.0306, -0.0157,\n",
      "         0.0376, -0.0267, -0.0172, -0.0176, -0.0143, -0.0344, -0.0039, -0.0414,\n",
      "         0.0132,  0.0191, -0.0061, -0.0243,  0.0284, -0.0164, -0.0003, -0.0272,\n",
      "        -0.0150, -0.0481,  0.0241, -0.0065, -0.0459, -0.0250,  0.0188,  0.0283,\n",
      "        -0.0231,  0.0231,  0.0202,  0.0226,  0.0035,  0.0186, -0.0240, -0.0143,\n",
      "        -0.0059, -0.0098,  0.0112,  0.0438, -0.0477,  0.0450, -0.0344, -0.0291,\n",
      "        -0.0442, -0.0019,  0.0036, -0.0124,  0.0239,  0.0485, -0.0082, -0.0298,\n",
      "        -0.0051, -0.0126,  0.0152, -0.0025,  0.0117,  0.0019, -0.0378,  0.0234,\n",
      "        -0.0006,  0.0308, -0.0021,  0.0011,  0.0111,  0.0265,  0.0382,  0.0486,\n",
      "        -0.0361,  0.0358, -0.0416,  0.0061, -0.0193,  0.0069, -0.0151, -0.0385,\n",
      "         0.0281,  0.0159, -0.0395, -0.0262,  0.0241,  0.0082, -0.0229, -0.0285,\n",
      "        -0.0397, -0.0406,  0.0103, -0.0479, -0.0460,  0.0441,  0.0498, -0.0474],\n",
      "       requires_grad=True), Parameter containing:\n",
      "tensor([[-0.0450,  0.0771, -0.0772,  ..., -0.0367,  0.0748,  0.0617],\n",
      "        [ 0.0675, -0.0848,  0.0564,  ...,  0.0726, -0.0417,  0.0533],\n",
      "        [ 0.0049, -0.0274, -0.0437,  ..., -0.0002,  0.0099,  0.0691],\n",
      "        ...,\n",
      "        [ 0.0207,  0.0409,  0.0024,  ...,  0.0322,  0.0672, -0.0758],\n",
      "        [-0.0423,  0.0307,  0.0333,  ...,  0.0237, -0.0092,  0.0579],\n",
      "        [ 0.0054, -0.0379,  0.0905,  ...,  0.0385, -0.0502,  0.0155]],\n",
      "       requires_grad=True), Parameter containing:\n",
      "tensor([-0.0004, -0.0318, -0.0080,  0.0545, -0.0096,  0.0647, -0.0463, -0.0670,\n",
      "        -0.0187,  0.0261, -0.0204,  0.0146,  0.0096, -0.0472,  0.0706, -0.0139,\n",
      "         0.0813, -0.0216,  0.0911, -0.0091, -0.0249, -0.0455,  0.0420, -0.0068,\n",
      "         0.0026,  0.0818, -0.0613, -0.0533,  0.0234, -0.0152,  0.0783, -0.0078,\n",
      "         0.0511,  0.0188,  0.0090, -0.0188, -0.0235, -0.0138, -0.0722,  0.0199,\n",
      "        -0.0244, -0.0413, -0.0548,  0.0464,  0.0769,  0.0005, -0.0902, -0.0316,\n",
      "        -0.0433,  0.0253,  0.0478,  0.0443, -0.0642,  0.0637, -0.0783,  0.0349,\n",
      "         0.0271,  0.0002, -0.0321, -0.0071, -0.0272, -0.0328, -0.0645,  0.0189,\n",
      "        -0.0729,  0.0115,  0.0691, -0.0122,  0.0771, -0.0343,  0.0200, -0.0524,\n",
      "         0.0654,  0.0187,  0.0390, -0.0761,  0.0130, -0.0033, -0.0667, -0.0086,\n",
      "         0.0492,  0.0093, -0.0060,  0.0557], requires_grad=True), Parameter containing:\n",
      "tensor([[ 6.9153e-02,  3.9120e-03,  5.7657e-02,  9.5964e-02, -3.5300e-02,\n",
      "         -7.2646e-02,  5.1239e-02,  1.5567e-02, -6.1507e-02, -3.1796e-02,\n",
      "          5.9533e-03, -8.4281e-02, -7.6109e-02, -4.1722e-02, -2.1265e-02,\n",
      "          6.7105e-02,  2.3997e-02, -5.2093e-02,  1.8483e-02, -8.5268e-02,\n",
      "         -8.0174e-02,  4.7182e-02, -3.9971e-02,  1.0046e-01, -9.3763e-02,\n",
      "         -7.5283e-02,  6.7998e-02, -4.7715e-02,  1.0095e-01, -4.5122e-02,\n",
      "         -5.2063e-02, -4.4256e-02,  2.6368e-02,  3.3308e-02,  1.0583e-01,\n",
      "         -9.9322e-02,  1.6837e-02,  7.4410e-02, -1.0748e-01, -8.0466e-02,\n",
      "          9.1024e-03,  3.7012e-02, -6.2473e-05, -1.1885e-02, -5.7750e-02,\n",
      "          9.7165e-02, -4.5134e-03,  7.9562e-02, -8.2443e-02,  1.0195e-01,\n",
      "          8.6471e-02, -4.8541e-02,  1.0831e-01,  5.5225e-02, -2.9239e-02,\n",
      "         -5.3162e-02, -2.7619e-02,  8.7694e-02,  8.6284e-02, -5.8143e-02,\n",
      "          5.0898e-02, -6.9606e-02,  2.0008e-02,  2.6165e-03, -6.8330e-02,\n",
      "          1.4579e-02, -3.6449e-02,  8.5021e-02, -9.9420e-02,  4.7844e-02,\n",
      "          2.7064e-02,  3.5789e-02, -8.9545e-02,  4.9647e-02,  8.1410e-02,\n",
      "          8.1148e-02,  7.3176e-02,  1.6875e-03, -1.3958e-02,  1.2130e-02,\n",
      "          4.8861e-02,  1.1543e-02, -9.3461e-02, -4.0304e-03],\n",
      "        [-1.8275e-02, -3.4008e-03,  6.6181e-02, -3.5945e-02,  4.4681e-03,\n",
      "         -6.5486e-02, -8.4018e-02, -6.4994e-02, -4.7948e-02,  8.6471e-02,\n",
      "          1.0333e-01, -8.2107e-02, -1.0412e-01,  5.6410e-02, -7.1896e-02,\n",
      "         -4.2847e-02, -7.2040e-02,  2.0862e-02, -2.4541e-02,  5.2104e-03,\n",
      "         -4.0257e-02,  3.1642e-02, -9.7052e-02,  4.5620e-03, -5.2088e-02,\n",
      "          3.1849e-02, -1.9091e-02, -1.0242e-01,  8.1157e-02, -8.2381e-02,\n",
      "         -1.0520e-01, -6.5308e-02,  1.9738e-02,  5.2917e-02, -2.9351e-02,\n",
      "          1.1855e-02,  3.0168e-02, -2.1122e-05, -5.9068e-02, -7.9879e-02,\n",
      "          3.7568e-02, -9.6939e-03, -1.0002e-01,  3.4949e-04,  9.3472e-02,\n",
      "          5.9992e-02, -1.0647e-01, -1.0520e-01,  2.0139e-02, -3.8894e-03,\n",
      "          8.6021e-02, -4.5015e-02,  6.6614e-02,  8.0291e-02,  8.8639e-02,\n",
      "         -5.4666e-03, -7.4169e-02, -3.2987e-02, -8.4493e-03,  2.5594e-02,\n",
      "          7.8865e-03, -7.2764e-02, -6.4275e-02, -2.5336e-02,  3.9060e-02,\n",
      "         -6.3423e-02,  1.0113e-01, -4.2426e-02,  2.3738e-02, -7.8283e-02,\n",
      "         -6.6983e-02,  2.7920e-02, -2.9577e-02, -7.9221e-02,  9.5205e-02,\n",
      "         -9.2689e-02,  4.4184e-02,  6.4249e-02,  8.8615e-02,  8.2244e-02,\n",
      "         -9.8514e-02,  2.9049e-03, -3.9563e-02,  1.0359e-01],\n",
      "        [-7.1356e-02, -2.1048e-02, -1.2256e-02, -5.9036e-02,  4.9650e-02,\n",
      "         -3.3858e-02, -1.7436e-02,  2.7580e-02, -5.6685e-02, -1.0356e-01,\n",
      "          9.6299e-02,  9.6083e-02, -7.1237e-02, -7.3423e-02, -2.5368e-03,\n",
      "         -6.9014e-02,  9.2562e-02,  2.8969e-02, -1.3393e-03, -3.0367e-02,\n",
      "         -2.3932e-02, -9.2916e-02,  8.7269e-02,  4.9568e-02,  1.0217e-01,\n",
      "         -7.6113e-02, -2.6607e-02,  9.9352e-02, -3.9659e-02,  1.8350e-02,\n",
      "          3.3910e-02,  1.0209e-01,  6.6830e-02,  9.5887e-03,  3.9659e-02,\n",
      "          5.6247e-02,  7.4294e-02,  3.4886e-04, -9.2895e-02,  4.0331e-02,\n",
      "         -4.6984e-02, -5.3641e-02,  1.8214e-02,  8.3217e-02,  3.7182e-02,\n",
      "         -2.4037e-02, -9.8752e-02, -5.3957e-02, -8.2649e-02,  8.5416e-02,\n",
      "         -2.6908e-02, -1.8478e-02,  6.1536e-02, -3.9258e-03,  7.8261e-02,\n",
      "         -7.8489e-02,  5.9066e-02, -5.6108e-02, -9.3292e-02, -6.0685e-02,\n",
      "         -3.8012e-03,  5.0424e-02,  7.3312e-02, -8.1194e-03, -1.0656e-01,\n",
      "         -1.0564e-01, -3.3934e-02, -5.4311e-02, -3.2853e-02,  4.1661e-02,\n",
      "         -6.7265e-02, -6.0922e-02,  4.1857e-02,  3.7425e-02, -4.1688e-02,\n",
      "         -8.0816e-02, -8.2501e-02,  7.7162e-02, -7.8089e-02,  1.0414e-01,\n",
      "          2.2194e-03, -9.1419e-02,  1.0558e-01, -6.4946e-02],\n",
      "        [-2.0764e-02, -1.5627e-02,  7.7916e-02, -4.6328e-02, -6.3544e-03,\n",
      "         -5.8760e-02, -8.6254e-02, -3.8035e-02, -9.3193e-02, -9.6149e-02,\n",
      "         -4.6718e-02,  6.7994e-02,  8.9307e-03,  2.2425e-02,  8.0103e-02,\n",
      "         -1.0829e-01,  6.1513e-02,  4.1635e-02,  2.7417e-02, -5.4547e-02,\n",
      "          7.9127e-02,  1.0115e-02, -2.3955e-03,  2.6593e-02, -9.2790e-02,\n",
      "         -4.9462e-02, -1.0278e-01,  3.2681e-02,  6.4273e-02, -2.0837e-02,\n",
      "         -4.5732e-02,  3.8198e-02,  1.0365e-01, -6.0455e-02, -1.1037e-02,\n",
      "          1.8503e-02,  5.5665e-02,  3.3808e-02,  2.3924e-02, -1.0913e-02,\n",
      "         -1.0245e-02,  3.9908e-02,  2.2752e-03, -8.1940e-02,  9.5155e-02,\n",
      "          1.0696e-02,  9.8105e-02,  5.0784e-02, -8.3180e-02,  8.2670e-02,\n",
      "          6.4399e-02,  1.7699e-02, -1.0652e-01,  1.0876e-01,  5.2590e-02,\n",
      "         -2.1394e-02,  5.7364e-02, -1.8064e-02,  2.8489e-02,  7.4331e-02,\n",
      "          1.0885e-01, -8.2014e-02,  7.7108e-02, -4.6500e-02, -1.4921e-02,\n",
      "         -4.7596e-02, -1.0043e-01, -1.2475e-02,  9.2924e-02, -1.0813e-02,\n",
      "          6.1190e-02,  9.6881e-02,  1.1613e-03, -8.4383e-02,  4.2290e-02,\n",
      "          4.1606e-02, -5.5712e-02, -1.9888e-02, -9.3033e-02, -7.2627e-02,\n",
      "         -6.9504e-02, -1.2244e-02,  6.7997e-02,  1.9420e-03],\n",
      "        [ 1.0765e-01,  1.0547e-01, -6.7690e-02,  1.0422e-01, -3.8705e-02,\n",
      "         -3.5637e-02,  3.4820e-02, -1.0206e-02, -4.9411e-02, -1.7561e-02,\n",
      "         -6.4876e-02,  3.6250e-02,  3.4791e-02,  3.7587e-02,  8.1182e-02,\n",
      "          1.7565e-02, -1.0177e-01,  9.3030e-02,  1.2788e-02,  1.0193e-02,\n",
      "         -2.8237e-02, -1.0890e-01, -8.0891e-03,  8.4644e-02, -5.2324e-03,\n",
      "         -8.9151e-02, -4.7585e-02,  5.9686e-02, -2.7686e-03,  9.8885e-02,\n",
      "         -7.4221e-02, -7.7410e-02,  8.8189e-02, -1.0203e-01, -1.5842e-02,\n",
      "         -7.4898e-02,  2.0756e-02,  3.9594e-02, -5.3589e-03,  1.1562e-02,\n",
      "         -3.3066e-02,  6.9318e-02, -7.6424e-02,  8.6128e-02,  2.0237e-02,\n",
      "         -1.0641e-01,  2.9407e-02, -1.0003e-01, -4.9384e-03,  5.9674e-02,\n",
      "         -5.2026e-02, -1.6049e-02, -4.4263e-02, -1.0574e-01, -3.6534e-02,\n",
      "         -2.9326e-02, -5.3258e-02, -7.0947e-02, -6.1431e-02, -6.4582e-02,\n",
      "          9.8839e-02,  6.1330e-02, -1.5234e-02, -2.7425e-02,  9.7316e-02,\n",
      "          4.6970e-02,  7.0130e-02,  8.8811e-02,  6.5073e-02,  2.6521e-02,\n",
      "         -5.0411e-02, -1.0053e-01, -1.6846e-02,  9.9987e-02,  9.3223e-02,\n",
      "         -2.7376e-02,  8.0489e-02, -7.3475e-02, -7.1735e-02, -7.3864e-04,\n",
      "          3.7317e-02,  7.2340e-02,  4.4965e-02, -5.0378e-02],\n",
      "        [-5.9987e-02, -1.0179e-01,  8.4039e-03,  6.0820e-02, -8.3730e-02,\n",
      "          8.1906e-02,  1.0663e-01, -3.0001e-03,  6.1073e-02, -1.0625e-01,\n",
      "          7.8750e-02, -2.3427e-02,  9.6232e-02, -4.7039e-02, -9.8314e-02,\n",
      "          1.0896e-01, -9.3984e-02,  3.0496e-02,  7.0450e-02, -4.7081e-02,\n",
      "         -8.2947e-02, -3.7609e-04, -2.8307e-03,  9.4556e-02, -8.1375e-02,\n",
      "          3.4566e-02,  4.8510e-02,  3.0466e-02, -7.1629e-02,  5.2154e-02,\n",
      "          7.7103e-02, -9.5524e-02, -7.3965e-02,  9.4153e-02,  7.0321e-02,\n",
      "         -1.0608e-01, -4.3969e-02, -6.2281e-02, -5.7663e-02,  1.0139e-01,\n",
      "          7.9227e-02, -7.6168e-02, -4.6100e-02,  7.8094e-02,  1.6180e-02,\n",
      "         -2.9829e-02, -8.0169e-02, -1.0746e-01, -1.4008e-02,  8.5071e-02,\n",
      "         -2.7101e-02,  7.7578e-03,  6.7504e-02,  5.5641e-03,  7.8458e-02,\n",
      "          4.5632e-02,  3.6744e-02, -6.4820e-02, -6.7374e-02, -9.7183e-02,\n",
      "          3.5475e-03,  6.7804e-02,  5.3715e-02,  1.3234e-02,  8.5967e-02,\n",
      "          2.4054e-02, -1.0791e-01,  5.5141e-03,  5.4970e-02, -3.7086e-02,\n",
      "          2.0379e-02, -4.2106e-02, -1.0369e-01,  2.2006e-02,  9.6427e-02,\n",
      "         -3.5867e-02,  3.3760e-02,  1.0204e-01,  3.6781e-02, -2.3199e-02,\n",
      "         -9.3994e-02,  9.6276e-02,  9.4962e-02, -8.4685e-02],\n",
      "        [ 1.0782e-01,  8.2831e-02,  8.5391e-02, -3.9973e-02,  1.5080e-02,\n",
      "          1.0168e-01, -9.8980e-02,  1.0557e-02, -3.0013e-02, -4.8712e-02,\n",
      "          4.0563e-03, -9.8681e-02, -6.7379e-02, -1.0485e-01, -1.2872e-02,\n",
      "          5.5569e-02, -7.6650e-02, -4.2090e-02, -5.3005e-02, -9.6999e-02,\n",
      "          4.8372e-03, -7.1048e-02, -9.8556e-03, -2.2208e-02,  3.3507e-02,\n",
      "         -7.3574e-03, -1.8675e-02,  7.7455e-02,  3.0206e-03,  4.3219e-03,\n",
      "         -6.0091e-02, -9.5862e-02, -1.7405e-02,  4.2256e-02,  2.7848e-02,\n",
      "         -7.5038e-02,  6.0959e-02,  3.1168e-02, -2.7325e-02, -1.0861e-01,\n",
      "         -7.5708e-02,  6.6936e-03,  3.9668e-02,  7.7162e-02, -8.2512e-02,\n",
      "          7.0771e-02,  2.0442e-02, -1.6988e-02,  3.3613e-02,  6.3229e-02,\n",
      "          1.0008e-01, -6.4055e-03,  3.1955e-02, -5.8061e-02, -3.0208e-02,\n",
      "         -5.3280e-02, -4.4943e-02, -1.0354e-01,  4.6540e-02, -3.8385e-02,\n",
      "          8.9322e-02,  6.7596e-02,  1.0843e-01,  2.0627e-03,  4.2862e-02,\n",
      "          9.1606e-02,  1.0554e-01, -4.3465e-02,  7.2179e-02, -9.9064e-02,\n",
      "          4.6305e-02, -6.7491e-02,  8.0949e-04,  1.8528e-02,  2.6567e-02,\n",
      "         -5.8648e-02, -9.4785e-02,  9.5519e-02, -1.6160e-02,  1.9362e-02,\n",
      "         -1.0485e-01,  6.9752e-02, -7.0313e-02, -3.7717e-02],\n",
      "        [-9.2905e-02, -2.7713e-03, -3.8642e-02, -5.7457e-02, -8.3206e-02,\n",
      "         -6.1513e-02, -4.8323e-03,  5.0210e-02, -1.3022e-03,  3.1700e-04,\n",
      "          5.3510e-03, -1.0006e-01, -6.3968e-02, -8.9725e-02,  1.0365e-01,\n",
      "          6.1476e-02,  4.2110e-02,  9.1194e-02, -7.8358e-02, -8.1627e-02,\n",
      "         -9.6802e-02,  3.4808e-02,  6.9924e-02,  6.9853e-02, -1.0365e-01,\n",
      "          5.4669e-02,  1.0403e-01,  8.4082e-02,  4.2999e-02,  5.3988e-02,\n",
      "          1.0544e-01, -9.7850e-02,  8.8025e-03,  9.2658e-02,  9.7854e-02,\n",
      "          5.6568e-02,  5.9912e-04,  4.1153e-02,  1.6715e-02,  3.9955e-02,\n",
      "         -4.2535e-03,  7.6400e-02,  9.3711e-02, -7.8487e-02,  1.9405e-02,\n",
      "          5.4305e-02,  4.1517e-03, -1.0881e-01, -7.2603e-02, -9.9191e-02,\n",
      "          6.6434e-02,  9.3782e-02,  6.5577e-02, -2.0823e-02,  7.2447e-02,\n",
      "          4.5238e-02,  8.0544e-03,  9.0783e-03,  8.5182e-02,  5.3811e-02,\n",
      "         -1.0789e-01,  9.3506e-02, -9.1546e-02, -1.3846e-02, -5.1042e-02,\n",
      "          5.9681e-02,  4.0684e-03, -2.0447e-02,  6.3795e-02, -9.9021e-02,\n",
      "          3.4746e-02, -4.1784e-02, -8.9864e-02, -3.0987e-02, -6.5006e-02,\n",
      "         -6.3156e-02,  8.3672e-02,  3.1851e-02,  7.2697e-02, -7.4778e-02,\n",
      "          6.6509e-02,  8.9041e-02, -3.6214e-02,  4.9320e-02],\n",
      "        [-8.6334e-02, -6.4404e-02, -5.3798e-02,  2.8162e-02, -3.4094e-03,\n",
      "          2.7031e-02,  5.0300e-02, -8.2022e-02, -8.5336e-02, -2.0769e-02,\n",
      "         -3.7767e-02, -1.7116e-02, -3.6140e-02, -9.0607e-02, -7.1830e-02,\n",
      "          3.9893e-02,  6.3385e-02,  3.4460e-03, -7.5270e-02,  9.9917e-02,\n",
      "          1.8437e-02, -5.5990e-02,  1.8584e-02, -5.5841e-02,  9.8792e-02,\n",
      "         -9.8197e-02, -5.3259e-02, -6.1105e-02, -4.0162e-02,  4.3220e-02,\n",
      "          5.4958e-03, -9.0593e-02,  5.4136e-02,  9.8531e-02, -4.4773e-02,\n",
      "          5.8919e-02,  1.0198e-01,  1.4010e-02,  3.4090e-02, -5.7625e-02,\n",
      "          8.2587e-02,  1.8286e-02,  2.8410e-02,  1.0652e-01,  1.5641e-02,\n",
      "          2.4829e-03, -6.6905e-02,  5.7588e-02, -1.8366e-02,  8.0725e-02,\n",
      "         -4.1607e-02, -9.2054e-02,  3.5280e-02,  1.0022e-02, -6.5613e-02,\n",
      "         -6.4356e-02, -3.4224e-02, -1.1510e-02, -7.1103e-02,  4.5052e-02,\n",
      "         -6.1802e-02, -5.7864e-02, -2.3857e-02,  2.8124e-02,  5.5028e-03,\n",
      "          4.0259e-02,  1.0805e-01,  6.9480e-02,  7.9213e-02,  1.8845e-02,\n",
      "          5.9592e-02,  1.7434e-02,  7.3410e-02,  1.2901e-02,  6.7157e-02,\n",
      "          1.0560e-01,  5.9279e-02,  4.2388e-03, -9.6577e-02, -3.7630e-04,\n",
      "          8.9644e-02,  2.4459e-02,  4.7285e-02,  2.2669e-02],\n",
      "        [ 1.0648e-03,  7.8050e-02,  3.8160e-02,  7.7735e-02, -1.0220e-01,\n",
      "          7.6035e-02, -1.0396e-01,  7.7198e-03, -6.5021e-02, -2.7925e-02,\n",
      "          1.0351e-01,  1.0209e-02, -4.6495e-02, -3.4201e-02,  7.1013e-02,\n",
      "          2.4115e-02, -7.7747e-02, -7.7863e-02, -6.3901e-02, -4.6713e-02,\n",
      "          2.4568e-02,  1.0706e-01,  7.4393e-02,  5.0896e-02, -5.4769e-02,\n",
      "          7.8425e-02, -1.0734e-01,  4.7408e-02,  6.5893e-02,  9.0700e-02,\n",
      "         -6.8845e-02,  7.5316e-02, -7.8563e-02, -8.9805e-03,  7.7828e-02,\n",
      "          4.9585e-02,  8.8763e-02,  5.4412e-02, -4.5548e-02, -9.5993e-02,\n",
      "         -7.2415e-02, -2.3535e-02,  6.8838e-02,  5.4550e-02, -3.5081e-02,\n",
      "          6.5341e-02, -7.5132e-02, -1.0878e-01, -5.6863e-02, -1.0680e-02,\n",
      "          4.4462e-02, -8.5729e-04, -8.6935e-02, -7.8317e-02,  3.7428e-02,\n",
      "          1.3501e-02, -7.5656e-02, -7.8161e-03, -6.6561e-02,  1.0684e-02,\n",
      "         -1.0454e-01, -8.7947e-03,  2.4091e-02, -6.8849e-02,  5.1178e-02,\n",
      "         -6.6654e-02, -1.9584e-02,  6.0940e-02,  4.4600e-02,  9.5492e-02,\n",
      "         -4.8409e-02, -9.1494e-04, -1.1683e-02, -6.7989e-02,  1.0718e-01,\n",
      "          1.0349e-01, -9.5527e-02, -7.8951e-02,  2.9160e-02, -1.0185e-01,\n",
      "          6.4194e-02, -3.7375e-02, -9.3153e-02,  5.8621e-02]],\n",
      "       requires_grad=True), Parameter containing:\n",
      "tensor([ 0.0655,  0.0128, -0.0189, -0.0769,  0.0973,  0.0318,  0.0868,  0.0097,\n",
      "         0.0550,  0.0509], requires_grad=True)]\n",
      "10\n"
     ]
    }
   ],
   "source": [
    "params = list(net.parameters())\n",
    "print(params)\n",
    "print(len(params))"
   ]
  },
  {
   "cell_type": "markdown",
   "id": "cb0e8edf-1097-4090-b863-8f728732c45b",
   "metadata": {},
   "source": [
    "38.打印某一层参数的形状"
   ]
  },
  {
   "cell_type": "code",
   "execution_count": 77,
   "id": "f745e697-7fd1-43bd-ab1a-375e9707a921",
   "metadata": {},
   "outputs": [
    {
     "name": "stdout",
     "output_type": "stream",
     "text": [
      "torch.Size([6, 1, 5, 5])\n"
     ]
    }
   ],
   "source": [
    "print(params[0].size())"
   ]
  },
  {
   "cell_type": "markdown",
   "id": "958e01cb-2ca2-4a92-814c-2733b50f6c82",
   "metadata": {},
   "source": [
    "39.随机输入一个向量，查看前向传播输出"
   ]
  },
  {
   "cell_type": "code",
   "execution_count": 80,
   "id": "e89c6520-e03a-46d2-96ca-3642583bce61",
   "metadata": {},
   "outputs": [
    {
     "name": "stdout",
     "output_type": "stream",
     "text": [
      "tensor([[ 0.0951,  0.0278, -0.0287, -0.0567,  0.1442,  0.0361,  0.0772,  0.0734,\n",
      "          0.1392,  0.0220]], grad_fn=<AddmmBackward0>)\n"
     ]
    }
   ],
   "source": [
    "input = torch.randn(1, 1, 32, 32)\n",
    "out = net(input)\n",
    "print(out)"
   ]
  },
  {
   "cell_type": "markdown",
   "id": "561ffb18-4f64-4690-9e63-3c60eff47251",
   "metadata": {},
   "source": [
    "40.将梯度初始化"
   ]
  },
  {
   "cell_type": "code",
   "execution_count": 81,
   "id": "e2eefa58-f7f8-4aa8-b6b3-d5f77d4f7da8",
   "metadata": {},
   "outputs": [],
   "source": [
    "net.zero_grad()"
   ]
  },
  {
   "cell_type": "markdown",
   "id": "748c2b4b-db3a-4239-8681-b328c3a917ca",
   "metadata": {},
   "source": [
    "41.随机一个梯度进行反向传播"
   ]
  },
  {
   "cell_type": "code",
   "execution_count": 82,
   "id": "0b8421be-5fea-4474-a80a-ae23ef5845cf",
   "metadata": {},
   "outputs": [],
   "source": [
    "out.backward(torch.randn(1, 10))"
   ]
  },
  {
   "cell_type": "markdown",
   "id": "a71ca2f1-3a84-424d-ae32-3d1937a0fae3",
   "metadata": {},
   "source": [
    "42.用自带的MSELoss()定义损失函数"
   ]
  },
  {
   "cell_type": "code",
   "execution_count": 83,
   "id": "72011e83-5b13-415b-845c-3f46bc647482",
   "metadata": {},
   "outputs": [],
   "source": [
    "criterion = nn.MSELoss()"
   ]
  },
  {
   "cell_type": "markdown",
   "id": "114cfc2b-4dad-49c3-b7dd-b40a4fecc39d",
   "metadata": {},
   "source": [
    "43.随机一个真值，并用随机的输入计算损失"
   ]
  },
  {
   "cell_type": "code",
   "execution_count": 86,
   "id": "de1ea4ea-e890-4cf3-8e15-3a1d39ca9513",
   "metadata": {},
   "outputs": [
    {
     "name": "stdout",
     "output_type": "stream",
     "text": [
      "tensor(0.9755, grad_fn=<MseLossBackward0>)\n"
     ]
    }
   ],
   "source": [
    "target = torch.randn(10)\n",
    "target = target.view(1, -1)\n",
    "\n",
    "output = net(input)\n",
    "\n",
    "loss = criterion(output, target)\n",
    "print(loss)"
   ]
  },
  {
   "cell_type": "markdown",
   "id": "bf63a147-bced-44b4-985c-6ba9f484a08c",
   "metadata": {},
   "source": [
    "44. 将梯度初始化，计算上一步中loss的反向传播"
   ]
  },
  {
   "cell_type": "code",
   "execution_count": 87,
   "id": "55fd33d1-9d18-4a8b-8205-88e52b301929",
   "metadata": {},
   "outputs": [
    {
     "name": "stdout",
     "output_type": "stream",
     "text": [
      "conv1.bias.grad before backward\n",
      "None\n"
     ]
    }
   ],
   "source": [
    "net.zero_grad()\n",
    "\n",
    "print('conv1.bias.grad before backward')\n",
    "print(net.conv1.bias.grad)"
   ]
  },
  {
   "cell_type": "markdown",
   "id": "2f3f2432-996d-4def-89e5-b391b16bd506",
   "metadata": {},
   "source": [
    "45.计算43中loss的反向传播"
   ]
  },
  {
   "cell_type": "code",
   "execution_count": 88,
   "id": "24c2a81f-73a2-4532-86b1-f08bd39752f0",
   "metadata": {},
   "outputs": [
    {
     "name": "stdout",
     "output_type": "stream",
     "text": [
      "conv1.bias.grad before backward\n",
      "tensor([ 0.0053,  0.0012,  0.0002, -0.0192, -0.0063,  0.0019])\n"
     ]
    }
   ],
   "source": [
    "loss.backward()\n",
    "\n",
    "print('conv1.bias.grad before backward')\n",
    "print(net.conv1.bias.grad)"
   ]
  },
  {
   "cell_type": "markdown",
   "id": "4f8b81fb-19df-46bf-af0b-6d8c0bb88318",
   "metadata": {},
   "source": [
    "46.定义SGD优化器算法，学习率设置为0.01"
   ]
  },
  {
   "cell_type": "code",
   "execution_count": 89,
   "id": "70cca03a-386b-4543-9e1a-f85165421bcd",
   "metadata": {},
   "outputs": [],
   "source": [
    "import torch.optim as optim\n",
    "\n",
    "optimizer = optim.SGD(net.parameters(), lr = 0.01)"
   ]
  },
  {
   "cell_type": "markdown",
   "id": "37007b92-7343-4088-9c78-7971511e831d",
   "metadata": {},
   "source": [
    "47.使用优化器更新权重"
   ]
  },
  {
   "cell_type": "code",
   "execution_count": 90,
   "id": "58e421dd-7b9b-4a58-ae33-cec1acb4ce41",
   "metadata": {},
   "outputs": [],
   "source": [
    "optimizer.zero_grad()\n",
    "output = net(input)\n",
    "loss = criterion(output, target)\n",
    "loss.backward()\n",
    "\n",
    "# 更新权重\n",
    "optimizer.step()"
   ]
  },
  {
   "cell_type": "markdown",
   "id": "65edbad6-8ce4-4d31-b17a-6fa2a23cc3d6",
   "metadata": {},
   "source": [
    "58.保存训练好的模型"
   ]
  },
  {
   "cell_type": "code",
   "execution_count": null,
   "id": "66a0741a-c57b-4ab9-9ff6-66d939caf816",
   "metadata": {},
   "outputs": [],
   "source": [
    "PATH = './cifar_net.pth'\n",
    "torch.save(net.state_dict(), PATH)"
   ]
  },
  {
   "cell_type": "code",
   "execution_count": null,
   "id": "89fc8f12-6390-4c91-81e5-856a93a3fab7",
   "metadata": {},
   "outputs": [],
   "source": [
    "59.读取保存的模型"
   ]
  },
  {
   "cell_type": "code",
   "execution_count": null,
   "id": "5c8f1cf0-5bbe-4d53-b225-5d3388e3949e",
   "metadata": {},
   "outputs": [],
   "source": [
    "pretrained_net = torch.load(PATH)"
   ]
  },
  {
   "cell_type": "markdown",
   "id": "3734791b-e135-4066-91fa-28de30300de6",
   "metadata": {},
   "source": [
    "60. 加载模型"
   ]
  },
  {
   "cell_type": "code",
   "execution_count": null,
   "id": "d5394297-fdaf-4988-81af-49801fb5ec37",
   "metadata": {},
   "outputs": [],
   "source": [
    "net3 = Net()\n",
    "\n",
    "net3.load_state_dict(pretrained_net)"
   ]
  }
 ],
 "metadata": {
  "kernelspec": {
   "display_name": "Python 3 (ipykernel)",
   "language": "python",
   "name": "python3"
  },
  "language_info": {
   "codemirror_mode": {
    "name": "ipython",
    "version": 3
   },
   "file_extension": ".py",
   "mimetype": "text/x-python",
   "name": "python",
   "nbconvert_exporter": "python",
   "pygments_lexer": "ipython3",
   "version": "3.10.14"
  }
 },
 "nbformat": 4,
 "nbformat_minor": 5
}
